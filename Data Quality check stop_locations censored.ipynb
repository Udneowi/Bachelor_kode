{
 "cells": [
  {
   "cell_type": "code",
   "execution_count": null,
   "metadata": {
    "collapsed": false
   },
   "outputs": [],
   "source": [
    "from sensible_raw.loaders import loader\n",
    "#import geoplotlib as gpl\n",
    "import numpy as np\n",
    "from __future__ import division\n",
    "import mpmath as mp\n",
    "import json\n",
    "import pandas as pd\n",
    "from mpl_toolkits.basemap import Basemap\n",
    "\n",
    "from geopy.distance import great_circle\n",
    "%matplotlib inline\n",
    "import matplotlib\n",
    "import matplotlib.pyplot as plt\n",
    "from mpl_toolkits.mplot3d import Axes3D\n",
    "import calmap\n",
    "\n",
    "plt.rcParams['figure.figsize'] = (10, 4)"
   ]
  },
  {
   "cell_type": "code",
   "execution_count": null,
   "metadata": {
    "collapsed": true
   },
   "outputs": [],
   "source": [
    "#Censored\n",
    "def load_date(start_date,end_date):\n",
    "    #creating a variable for the API call\n",
    "            "
   ]
  },
  {
   "cell_type": "code",
   "execution_count": null,
   "metadata": {
    "collapsed": true
   },
   "outputs": [],
   "source": [
    "#Censored\n",
    "#Input:  A  list with the months we want to look at\n",
    "#Output:  A pandas dataframe with all the data\n",
    "def load_data_all_months(months,data_type):\n",
    "    #creating a pandas dataframe from an API call to the database"
   ]
  },
  {
   "cell_type": "code",
   "execution_count": null,
   "metadata": {
    "collapsed": true
   },
   "outputs": [],
   "source": [
    "#Making a sequence for each user\n",
    "#Input: dataframe\n",
    "#Output: A list of sequences for each user\n",
    "def make_seq(dataframe, data_type):\n",
    "    seq = {}\n",
    "    if data_type == 'stop_locations':\n",
    "        for i in set(dataframe['user']):\n",
    "            seq[i]=[dataframe.loc[dataframe['user'].isin([i])]['label']][0].tolist()\n",
    "    elif data_type == 'cell':\n",
    "        for i in set(dataframe['user']):\n",
    "            cid=[dataframe.loc[dataframe['user'].isin([i])]['cid']][0].tolist()\n",
    "            lac=[dataframe.loc[dataframe['user'].isin([i])]['lac']][0].tolist()\n",
    "            seq[i]=[float(str(int(x[0]))+'.'+str(int(x[1]))) for x in zip(cid,lac)]\n",
    "    return seq"
   ]
  },
  {
   "cell_type": "code",
   "execution_count": null,
   "metadata": {
    "collapsed": true
   },
   "outputs": [],
   "source": [
    "#Editing our sequence. Making AAABBBCCCDD = ABCD and also removing all users who has less than a certain number N places\n",
    "#Input:\n",
    "#      seq: A list constaining lists of each user\n",
    "#        N: An integer for the minimum of different locations visited after\n",
    "def location_seq(seq,N=0):\n",
    "    for i in seq.keys():\n",
    "        j=1\n",
    "        while j<len(seq[i]):\n",
    "            if seq[i][j]==seq[i][j-1]:\n",
    "                del seq[i][j]\n",
    "            else:\n",
    "                j+=1\n",
    "    for i in seq.keys():\n",
    "        if len(seq[i])<=N:\n",
    "            del seq[i]\n",
    "    return seq"
   ]
  },
  {
   "cell_type": "code",
   "execution_count": null,
   "metadata": {
    "collapsed": true
   },
   "outputs": [],
   "source": [
    "# State entropy (only num of states)\n",
    "# S^{rand} = log2(N), N = 'number of states'\n",
    "def func_S_rand(seq):\n",
    "    return np.log2(len(np.unique(seq)))"
   ]
  },
  {
   "cell_type": "code",
   "execution_count": null,
   "metadata": {
    "collapsed": true
   },
   "outputs": [],
   "source": [
    "# Distribution entropy (uncorrelaed)\n",
    "# S^{unc} = - sum_{i=1..n}(p_i * log2(p_i))\n",
    "# Where p_i is the probability for state i.\n",
    "# The sum of all probabilitys is 1: sum_{i=1..n}(p_i) = 1\n",
    "def func_S_unc(seq):\n",
    "    \n",
    "    n = float(len(seq))\n",
    "    states = np.unique(seq)\n",
    "    N_states = len(np.unique(states))\n",
    "    \n",
    "    p = np.zeros(N_states)\n",
    "    for i in range(N_states):\n",
    "        p[i] = seq.count(states[i])/n\n",
    "    \n",
    "    return sum(-p * np.log2(p))"
   ]
  },
  {
   "cell_type": "code",
   "execution_count": null,
   "metadata": {
    "collapsed": true
   },
   "outputs": [],
   "source": [
    "# Lambda function for True entropy:\n",
    "# Taken from Matlab function!\n",
    "def func_Lambda(seq, i):\n",
    "    n = len(seq)\n",
    "    \n",
    "    # Insert terminal symbol\n",
    "    seq = seq + [min(seq)-1]\n",
    "    \n",
    "    x = 1\n",
    "    mps = [idx for (idx, val) in enumerate(seq[:i]) if val == seq[i]]\n",
    "    while (mps and x <= n-i):\n",
    "        if mps[-1] + x >= i:\n",
    "            del mps[-1]\n",
    "            \n",
    "        mps = [idx for idx in mps if seq[idx+x] == seq[i+x]]\n",
    "        x += 1\n",
    "        \n",
    "    return x"
   ]
  },
  {
   "cell_type": "code",
   "execution_count": null,
   "metadata": {
    "collapsed": true
   },
   "outputs": [],
   "source": [
    "# True entropy: Distribution entropy (correlaed), looks at correlations in the sequens\n",
    "# S = - sum_{T'_i in T_i}(P(T'_i) * log2(P(T'_i)))\n",
    "def func_S(seq):\n",
    "    \n",
    "    n = len(seq)\n",
    "    L = np.zeros(n)\n",
    "    \n",
    "    for i in range(n):\n",
    "        # Lambda function call\n",
    "        L[i] = func_Lambda(seq,i)\n",
    "    \n",
    "    # Function from Gavin Smith (LoPpercom)\n",
    "    # S = np.power(sum([L[i] / np.log2(i+1) for i in range(1,n)] ) * (1.0/n),-1)\n",
    "    # Function from Morten Proschowsky (Matlab)\n",
    "    S = n/sum(L) * np.log2(n)\n",
    "    return S"
   ]
  },
  {
   "cell_type": "code",
   "execution_count": null,
   "metadata": {
    "collapsed": true
   },
   "outputs": [],
   "source": [
    "# Predictability solving: \n",
    "# solve(0 = [-x*log2(x)-(1-x)*log2(1-x)+(1-x)*log2(N-1)] - S\n",
    "# Returns value between 0 and 1.\n",
    "def func_Pred(S_score,N_states):\n",
    "    \n",
    "    if N_states <= 1:\n",
    "        return 1\n",
    "    \n",
    "    # Convex function for the predictibility bound\n",
    "    func = lambda x, S, N: (-(x*mp.log(x,2)+(1-x)*mp.log(1-x,2))+(1-x)*mp.log(N-1,2))-S\n",
    "    func2 = lambda x: func(x,S_score,N_states)\n",
    "    # Solve function f(x) = 0\n",
    "    res = mp.findroot(func2,0.95).real\n",
    "    \n",
    "    return float(res)"
   ]
  },
  {
   "cell_type": "code",
   "execution_count": null,
   "metadata": {
    "collapsed": true
   },
   "outputs": [],
   "source": [
    "# Returns S_rand, S_unc, S, U_rand, U_unc and U_max.\n",
    "# Set print_res to True to print results\n",
    "def Compute_all(seq, print_res = False):\n",
    "    N_states = len(np.unique(seq))\n",
    "    S_rand = func_S_rand(seq)\n",
    "    S_unc  = func_S_unc(seq)\n",
    "    S = func_S(seq)\n",
    "    U_rand = func_Pred(S_rand,N_states)\n",
    "    U_unc  = func_Pred(S_unc,N_states)\n",
    "    U_max  = func_Pred(S,N_states)\n",
    "    \n",
    "    if print_res:\n",
    "        print 'S_rand: ' + str(S_rand)\n",
    "        print 'S_unc:  ' + str(S_unc)\n",
    "        print 'S:      ' + str(S)\n",
    "        print 'U_rand: ' + str(U_rand)\n",
    "        print 'U_unc:  ' + str(U_unc)\n",
    "        print 'U_max:  ' + str(U_max)\n",
    "        \n",
    "    return (S_rand, S_unc, S, U_rand, U_unc, U_max)"
   ]
  },
  {
   "cell_type": "code",
   "execution_count": null,
   "metadata": {
    "collapsed": true
   },
   "outputs": [],
   "source": [
    "def entropy_convergence(seq, lists):\n",
    "    seq_entropy = {}\n",
    "    for i in seq.keys():\n",
    "        seq_entropy[i]=[]\n",
    "    for i in lists:\n",
    "        seq_temp = location_seq(seq,i)\n",
    "        for key in seq_temp.keys():\n",
    "            seq_entropy[key].append(func_S(seq[key][:i]))\n",
    "    return seq_entropy"
   ]
  },
  {
   "cell_type": "code",
   "execution_count": null,
   "metadata": {
    "collapsed": true
   },
   "outputs": [],
   "source": [
    "def calmap_plot(df,time_type):\n",
    "    Dates = pd.to_datetime(df['timestamp'],unit = time_type)\n",
    "    df_heat = pd.Series([1 for i in range(df.shape[0])],index = Dates)\n",
    "    f,ax = calmap.calendarplot(df_heat,fillcolor=(0,0,0.5),cmap='gist_heat_r')"
   ]
  },
  {
   "cell_type": "markdown",
   "metadata": {},
   "source": [
    "# Checking data quality."
   ]
  },
  {
   "cell_type": "code",
   "execution_count": null,
   "metadata": {
    "collapsed": false
   },
   "outputs": [],
   "source": [
    "# loading data\n",
    "df_loc = load_data_all_months(load_date([3,2014],[2,2015]),'stop_locations')"
   ]
  },
  {
   "cell_type": "code",
   "execution_count": null,
   "metadata": {
    "collapsed": true
   },
   "outputs": [],
   "source": [
    "# Checking how many weeks are complete for each user\n",
    "complete_data = {}\n",
    "for user in set(df_loc['user']):\n",
    "    complete_data[user]=[]\n",
    "    df_loc_temp = df_loc[df_loc['user']==user]\n",
    "    time = df_loc_temp.iloc[0]['arrival']  #start time\n",
    "    time_day = 86400\n",
    "    while time < df_loc_temp.iloc[-1]['departure']:\n",
    "        count = 0\n",
    "        for day in range(7):\n",
    "            if df_loc_temp[(df_loc_temp['arrival']>=time) & (df_loc_temp['arrival']<time+time_day)].size!=0:\n",
    "                count+=1\n",
    "            time +=time_day\n",
    "        if count>=5:\n",
    "            complete_data[user].append(1)\n",
    "        else:\n",
    "            complete_data[user].append(0)            "
   ]
  },
  {
   "cell_type": "code",
   "execution_count": null,
   "metadata": {
    "collapsed": false
   },
   "outputs": [],
   "source": [
    "# Fetching the best users according to our requirements\n",
    "best_users = []\n",
    "for key in complete_data.keys():\n",
    "    if len(complete_data[key])>50 and sum(complete_data[key])/len(complete_data[key])>0.85:\n",
    "        best_users.append([key,sum(complete_data[key])/len(complete_data[key])])"
   ]
  },
  {
   "cell_type": "code",
   "execution_count": null,
   "metadata": {
    "collapsed": false
   },
   "outputs": [],
   "source": [
    "#Makes the sequence location based and calculates the lengths of the user sequences\n",
    "data_points = []\n",
    "seq_full = make_seq(df_loc,'stop_locations')\n",
    "seq_full = location_seq(seq_full)\n",
    "for user_seq in seq_full.values():\n",
    "    data_points.append(len(user_seq))"
   ]
  },
  {
   "cell_type": "code",
   "execution_count": null,
   "metadata": {
    "collapsed": false
   },
   "outputs": [],
   "source": [
    "plt.figure(figsize=(7,4.5))\n",
    "plt.hist(data_points,range(0,max(data_points)+100,100))\n",
    "plt.xlabel(\"Sequence length\")\n",
    "plt.ylabel(\"Amount of users\")"
   ]
  },
  {
   "cell_type": "code",
   "execution_count": null,
   "metadata": {
    "collapsed": false
   },
   "outputs": [],
   "source": [
    "# Getting the best users of the requirements earlier\n",
    "seq_best = {}\n",
    "for i in best_users:\n",
    "    seq_best[i[0]]=seq_full[i[0]]\n",
    "seq_best = location_seq(seq_best)"
   ]
  },
  {
   "cell_type": "code",
   "execution_count": null,
   "metadata": {
    "collapsed": false
   },
   "outputs": [],
   "source": [
    "data_points_compl = []\n",
    "for user_seq in seq_best.values():\n",
    "    data_points_compl.append(len(user_seq))"
   ]
  },
  {
   "cell_type": "code",
   "execution_count": null,
   "metadata": {
    "collapsed": false
   },
   "outputs": [],
   "source": [
    "plt.figure(figsize=(7,4.5))\n",
    "plt.hist(data_points_compl,range(0,max(data_points_compl)+100,100))\n",
    "plt.xlabel(\"Sequence length\")\n",
    "plt.ylabel(\"Amount of users\")"
   ]
  },
  {
   "cell_type": "code",
   "execution_count": null,
   "metadata": {
    "collapsed": true
   },
   "outputs": [],
   "source": []
  },
  {
   "cell_type": "markdown",
   "metadata": {},
   "source": [
    "# Entropy"
   ]
  },
  {
   "cell_type": "code",
   "execution_count": null,
   "metadata": {
    "collapsed": true
   },
   "outputs": [],
   "source": [
    "# Calculating the entropy and predictability for each user for the full data\n",
    "S_rand_all, S_unc_all, S_all, U_rand_all, U_unc_all, U_max_all=[],[],[],[],[],[]\n",
    "for seq in seq_full.values():\n",
    "    S_rand, S_unc, S, U_rand, U_unc, U_max = Compute_all(seq)\n",
    "    S_rand_all.append(S_rand)\n",
    "    S_unc_all.append(S_unc)\n",
    "    S_all.append(S)\n",
    "    U_rand_all.append(U_rand)\n",
    "    U_unc_all.append(U_unc)\n",
    "    U_max_all.append(U_max)"
   ]
  },
  {
   "cell_type": "code",
   "execution_count": null,
   "metadata": {
    "collapsed": false
   },
   "outputs": [],
   "source": [
    "plt.figure(figsize=(15,10))\n",
    "\n",
    "plt.subplot(231)\n",
    "plt.hist(S_rand_all,20)\n",
    "plt.title('S_rand')\n",
    "plt.ylabel('Amount of users')\n",
    "plt.xlabel(\"Entropy\")\n",
    "\n",
    "plt.subplot(232)\n",
    "plt.hist(S_unc_all,20)\n",
    "plt.title('S_unc')\n",
    "plt.xlabel(\"Entropy\")\n",
    "plt.ylabel('Amount of users')\n",
    "\n",
    "plt.subplot(233)\n",
    "plt.hist(S_all,20)\n",
    "plt.title('S_temp')\n",
    "plt.xlabel(\"Entropy\")\n",
    "plt.ylabel('Amount of users')\n",
    "\n",
    "plt.subplot(234)\n",
    "plt.hist(U_rand_all,20,range=(0,1))\n",
    "plt.title('U_rand')\n",
    "plt.ylabel('Amount of users')\n",
    "plt.xlabel(\"Predictability\")\n",
    "\n",
    "plt.subplot(235)\n",
    "plt.hist(U_unc_all,20,range=(0,1))\n",
    "plt.title('U_unc')\n",
    "plt.xlabel(\"Predictability\")\n",
    "plt.ylabel('Amount of users')\n",
    "\n",
    "plt.subplot(236)\n",
    "plt.hist(U_max_all,20,range=(0,1))\n",
    "plt.title('U_temp')\n",
    "plt.xlabel(\"Predictability\")\n",
    "plt.ylabel('Amount of users')\n",
    "\n",
    "plt.show\n"
   ]
  },
  {
   "cell_type": "code",
   "execution_count": null,
   "metadata": {
    "collapsed": false
   },
   "outputs": [],
   "source": [
    "plt.figure(figsize=(15,2.5))\n",
    "\n",
    "plt.subplot(131)\n",
    "plt.hist(S_rand_all,np.arange(0,10,10/20))\n",
    "plt.title('S_rand')\n",
    "plt.ylabel('Amount of users')\n",
    "plt.xlabel(\"Entropy\")\n",
    "\n",
    "plt.subplot(132)\n",
    "plt.hist(S_unc_all,np.arange(0,8,8/20))\n",
    "plt.title('S_unc')\n",
    "plt.xlabel(\"Entropy\")\n",
    "plt.ylabel('Amount of users')\n",
    "\n",
    "plt.subplot(133)\n",
    "plt.hist(S_all,np.arange(0,6,6/20))\n",
    "plt.title('S_temp')\n",
    "plt.xlabel(\"Entropy\")\n",
    "plt.ylabel('Amount of users')"
   ]
  },
  {
   "cell_type": "code",
   "execution_count": null,
   "metadata": {
    "collapsed": true
   },
   "outputs": [],
   "source": [
    "#Calculating the entropy and predictability for the best users\n",
    "S_rand_all, S_unc_all, S_all, U_rand_all, U_unc_all, U_max_all=[],[],[],[],[],[]\n",
    "for seq in seq_best.values():\n",
    "    S_rand, S_unc, S, U_rand, U_unc, U_max = Compute_all(seq)\n",
    "    S_rand_all.append(S_rand)\n",
    "    S_unc_all.append(S_unc)\n",
    "    S_all.append(S)\n",
    "    U_rand_all.append(U_rand)\n",
    "    U_unc_all.append(U_unc)\n",
    "    U_max_all.append(U_max)"
   ]
  },
  {
   "cell_type": "code",
   "execution_count": null,
   "metadata": {
    "collapsed": false
   },
   "outputs": [],
   "source": [
    "plt.figure(figsize=(15,10))\n",
    "\n",
    "plt.subplot(231)\n",
    "plt.hist(S_rand_all,20)\n",
    "plt.title('S_rand')\n",
    "plt.ylabel('Amount of users')\n",
    "plt.xlabel(\"Entropy\")\n",
    "\n",
    "plt.subplot(232)\n",
    "plt.hist(S_unc_all,20)\n",
    "plt.title('S_unc')\n",
    "plt.xlabel(\"Entropy\")\n",
    "plt.ylabel('Amount of users')\n",
    "\n",
    "plt.subplot(233)\n",
    "plt.hist(S_all,20)\n",
    "plt.title('S_temp')\n",
    "plt.xlabel(\"Entropy\")\n",
    "plt.ylabel('Amount of users')\n",
    "\n",
    "plt.subplot(234)\n",
    "plt.hist(U_rand_all,20,range=(0,1))\n",
    "plt.title('U_rand')\n",
    "plt.ylabel('Amount of users')\n",
    "plt.xlabel(\"Predictability\")\n",
    "\n",
    "plt.subplot(235)\n",
    "plt.hist(U_unc_all,20,range=(0,1))\n",
    "plt.title('U_unc')\n",
    "plt.xlabel(\"Predictability\")\n",
    "plt.ylabel('Amount of users')\n",
    "\n",
    "plt.subplot(236)\n",
    "plt.hist(U_max_all,20,range=(0,1))\n",
    "plt.title('U_temp')\n",
    "plt.xlabel(\"Predictability\")\n",
    "plt.ylabel('Amount of users')\n",
    "\n",
    "plt.show"
   ]
  },
  {
   "cell_type": "code",
   "execution_count": null,
   "metadata": {
    "collapsed": true
   },
   "outputs": [],
   "source": []
  },
  {
   "cell_type": "code",
   "execution_count": null,
   "metadata": {
    "collapsed": false,
    "scrolled": true
   },
   "outputs": [],
   "source": []
  },
  {
   "cell_type": "markdown",
   "metadata": {
    "collapsed": true
   },
   "source": [
    "# Testing entropy convergence."
   ]
  },
  {
   "cell_type": "code",
   "execution_count": null,
   "metadata": {
    "collapsed": false
   },
   "outputs": [],
   "source": [
    "# Loading the data\n",
    "df_loc = load_data_all_months(load_date([3,2014],[2,2015]),'stop_locations')"
   ]
  },
  {
   "cell_type": "code",
   "execution_count": null,
   "metadata": {
    "collapsed": false,
    "scrolled": true
   },
   "outputs": [],
   "source": [
    "# Make it location based\n",
    "seq_full  = make_seq(df_loc,'stop_locations')"
   ]
  },
  {
   "cell_type": "code",
   "execution_count": null,
   "metadata": {
    "collapsed": false
   },
   "outputs": [],
   "source": [
    "#Computing the entropy convergence\n",
    "Curves = []\n",
    "Curves_index = []\n",
    "for i in range(len(seq_best.keys())):\n",
    "    index = seq_best.keys()[i]\n",
    "    a = entropy_convergence({index:seq_best[index]},range(10,3000,10))[index]\n",
    "    Curves.append(a) \n",
    "    Curves_index.append(index)\n",
    "    #plt.plot(range(10,3000,10)[:len(a)],a,label = 'User '+ str(index))\n",
    "    plt.plot(range(10,3000,10)[:len(a)],a)\n",
    "    plt.legend()\n",
    "    plt.xlabel(\"Sequence length\")\n",
    "    plt.ylabel(\"Entropy\")"
   ]
  },
  {
   "cell_type": "code",
   "execution_count": null,
   "metadata": {
    "collapsed": false
   },
   "outputs": [],
   "source": [
    "# And the slope of the convergence\n",
    "for i in range(len(Curves)):\n",
    "    curve = [abs(Curves[i][j]-Curves[i][j+5]) for j in range(len(Curves[i])-5)]\n",
    "    plt.plot(range(10,3000,10)[:len(curve)],curve)\n",
    "    plt.xlabel(\"Sequence length\")\n",
    "    plt.ylabel(\"Slope\")\n",
    "    "
   ]
  },
  {
   "cell_type": "code",
   "execution_count": null,
   "metadata": {
    "collapsed": false
   },
   "outputs": [],
   "source": [
    "#Finding the best users according to our new requirement\n",
    "count = 0\n",
    "count_best_users = []\n",
    "for i in range(len(seq_best.keys())):\n",
    "    curve = [abs(Curves[i][j]-Curves[i][j+5]) for j in range(len(Curves[i])-5)]\n",
    "    for j in range(len(curve)-10):\n",
    "        if sorted(curve[j:j+10])[-3]<0.05:\n",
    "            count+=1\n",
    "            count_best_users.append(Curves_index[i])\n",
    "            break\n",
    "        "
   ]
  },
  {
   "cell_type": "code",
   "execution_count": null,
   "metadata": {
    "collapsed": false
   },
   "outputs": [],
   "source": [
    "#Making a dict of the new best users\n",
    "seq_best_final = {}\n",
    "for user in count_best_users:\n",
    "    seq_best_final[user] = seq_best[user]"
   ]
  },
  {
   "cell_type": "code",
   "execution_count": null,
   "metadata": {
    "collapsed": true
   },
   "outputs": [],
   "source": [
    "# Calculating the entropy and predictability for the best users\n",
    "S_rand_all, S_unc_all, S_all, U_rand_all, U_unc_all, U_max_all=[],[],[],[],[],[]\n",
    "for seq in seq_best_final.values():\n",
    "    S_rand, S_unc, S, U_rand, U_unc, U_max = Compute_all(seq)\n",
    "    S_rand_all.append(S_rand)\n",
    "    S_unc_all.append(S_unc)\n",
    "    S_all.append(S)\n",
    "    U_rand_all.append(U_rand)\n",
    "    U_unc_all.append(U_unc)\n",
    "    U_max_all.append(U_max)"
   ]
  },
  {
   "cell_type": "code",
   "execution_count": null,
   "metadata": {
    "collapsed": false,
    "scrolled": false
   },
   "outputs": [],
   "source": [
    "plt.figure(figsize=(15,10))\n",
    "\n",
    "plt.subplot(231)\n",
    "plt.hist(S_rand_all,20)\n",
    "plt.title('S_rand')\n",
    "plt.ylabel('Amount of users')\n",
    "plt.xlabel(\"Entropy\")\n",
    "\n",
    "plt.subplot(232)\n",
    "plt.hist(S_unc_all,20)\n",
    "plt.title('S_unc')\n",
    "plt.xlabel(\"Entropy\")\n",
    "plt.ylabel('Amount of users')\n",
    "\n",
    "plt.subplot(233)\n",
    "plt.hist(S_all,20)\n",
    "plt.title('S_temp')\n",
    "plt.xlabel(\"Entropy\")\n",
    "plt.ylabel('Amount of users')\n",
    "\n",
    "plt.subplot(234)\n",
    "plt.hist(U_rand_all,20,range=(0,1))\n",
    "plt.title('U_rand')\n",
    "plt.ylabel('Amount of users')\n",
    "plt.xlabel(\"Predictability\")\n",
    "\n",
    "plt.subplot(235)\n",
    "plt.hist(U_unc_all,20,range=(0,1))\n",
    "plt.title('U_unc')\n",
    "plt.xlabel(\"Predictability\")\n",
    "plt.ylabel('Amount of users')\n",
    "\n",
    "plt.subplot(236)\n",
    "plt.hist(U_max_all,20,range=(0,1))\n",
    "plt.title('U_temp')\n",
    "plt.xlabel(\"Predictability\")\n",
    "plt.ylabel('Amount of users')\n",
    "\n",
    "plt.show"
   ]
  },
  {
   "cell_type": "code",
   "execution_count": null,
   "metadata": {
    "collapsed": false
   },
   "outputs": [],
   "source": [
    "plt.figure(figsize=(15,2.5))\n",
    "\n",
    "plt.subplot(131)\n",
    "plt.hist(S_rand_all,np.arange(0,10,10/20))\n",
    "plt.title('S_rand')\n",
    "plt.ylabel('Amount of users')\n",
    "plt.xlabel(\"Entropy\")\n",
    "\n",
    "plt.subplot(132)\n",
    "plt.hist(S_unc_all,np.arange(0,8,8/20))\n",
    "plt.title('S_unc')\n",
    "plt.xlabel(\"Entropy\")\n",
    "plt.ylabel('Amount of users')\n",
    "\n",
    "plt.subplot(133)\n",
    "plt.hist(S_all,np.arange(0,6,6/20))\n",
    "plt.title('S_temp')\n",
    "plt.xlabel(\"Entropy\")\n",
    "plt.ylabel('Amount of users')"
   ]
  },
  {
   "cell_type": "code",
   "execution_count": null,
   "metadata": {
    "collapsed": false
   },
   "outputs": [],
   "source": [
    "plt.figure(figsize=(15,2.5))\n",
    "\n",
    "plt.subplot(131)\n",
    "plt.hist(U_rand_all,20,range=(0,1))\n",
    "plt.title('U_rand')\n",
    "plt.ylabel('Amount of users')\n",
    "plt.xlabel(\"Predictability\")\n",
    "\n",
    "plt.subplot(132)\n",
    "plt.hist(U_unc_all,20,range=(0,1))\n",
    "plt.title('U_unc')\n",
    "plt.xlabel(\"Predictability\")\n",
    "plt.ylabel('Amount of users')\n",
    "\n",
    "plt.subplot(133)\n",
    "plt.hist(U_max_all,20,range=(0,1))\n",
    "plt.title('U_temp')\n",
    "plt.xlabel(\"Predictability\")\n",
    "plt.ylabel('Amount of users')\n",
    "\n",
    "plt.show"
   ]
  },
  {
   "cell_type": "code",
   "execution_count": null,
   "metadata": {
    "collapsed": false
   },
   "outputs": [],
   "source": [
    "# Making a pandas data frame to save our new best users\n",
    "df_user_entropy = 0\n",
    "df_user_entropy = pd.DataFrame(columns=('user','S_ran','S_unc','S_temp','Length','unique'))\n",
    "index=0\n",
    "for user in seq_best_final.keys():\n",
    "    seq = seq_best[user]\n",
    "    seq_len = len(seq)\n",
    "    S_rand = func_S_rand(seq)\n",
    "    S_unc  = func_S_unc(seq)\n",
    "    S = func_S(seq)\n",
    "    unique = len(np.unique(seq)) \n",
    "    df_user_entropy.loc[index]=[int(user),S_rand,S_unc,S,seq_len,unique]\n",
    "    index+=1"
   ]
  },
  {
   "cell_type": "code",
   "execution_count": null,
   "metadata": {
    "collapsed": true
   },
   "outputs": [],
   "source": [
    "#Saving the best users\n",
    "df_user_entropy.to_csv('best_users_stop_entropy.csv')"
   ]
  },
  {
   "cell_type": "markdown",
   "metadata": {
    "collapsed": false
   },
   "source": [
    "# Check if cellIDS under a lac are the same"
   ]
  },
  {
   "cell_type": "code",
   "execution_count": null,
   "metadata": {
    "collapsed": false
   },
   "outputs": [],
   "source": [
    "#Import the cell locations\n",
    "dataframe_cells = pd.read_csv('cell_towers_DK_stor.csv')   #For mylnikov.org/archives/1059\n",
    "cell_dict_DK = {}\n",
    "for coloums, row in dataframe_cells.iterrows():\n",
    "    net,area, cell, lon, lat = row[5],row[6],row[7],row[9],row[8]    #mylnikov\n",
    "    if area in cell_dict_DK:\n",
    "        if cell in cell_dict_DK[area]:\n",
    "            cell_dict_DK[area][cell].append([lat,lon])\n",
    "        else:\n",
    "            cell_dict_DK[area][cell]=[[lat,lon]]\n",
    "    else:\n",
    "        cell_dict_DK[area]={cell:[[lat,lon]]}"
   ]
  },
  {
   "cell_type": "code",
   "execution_count": null,
   "metadata": {
    "collapsed": false
   },
   "outputs": [],
   "source": [
    "\n",
    "cell_dict_DK[23033]"
   ]
  },
  {
   "cell_type": "code",
   "execution_count": null,
   "metadata": {
    "collapsed": false
   },
   "outputs": [],
   "source": []
  },
  {
   "cell_type": "markdown",
   "metadata": {
    "collapsed": false
   },
   "source": [
    "# Heat maps"
   ]
  },
  {
   "cell_type": "code",
   "execution_count": null,
   "metadata": {
    "collapsed": true
   },
   "outputs": [],
   "source": [
    "df_loc_heat = load_data_all_months(load_date([3,2014],[2,2015]),'stop_locations')"
   ]
  },
  {
   "cell_type": "code",
   "execution_count": null,
   "metadata": {
    "collapsed": false
   },
   "outputs": [],
   "source": [
    "#Full data\n",
    "calmap_plot(df_loc_heat,'ms')"
   ]
  },
  {
   "cell_type": "code",
   "execution_count": null,
   "metadata": {
    "collapsed": false
   },
   "outputs": [],
   "source": [
    "#Some of the best users\n",
    "calmap_plot(df_loc[df_loc['user'].isin(seq_best_final.keys())],'ms')"
   ]
  },
  {
   "cell_type": "code",
   "execution_count": null,
   "metadata": {
    "collapsed": false
   },
   "outputs": [],
   "source": []
  },
  {
   "cell_type": "markdown",
   "metadata": {
    "collapsed": true
   },
   "source": [
    "# Quality of the raw data"
   ]
  },
  {
   "cell_type": "code",
   "execution_count": null,
   "metadata": {
    "collapsed": true
   },
   "outputs": [],
   "source": [
    "df__all = load_data_all_months(load_date([3,2014],[2,2015]),'location')"
   ]
  },
  {
   "cell_type": "code",
   "execution_count": null,
   "metadata": {
    "collapsed": false
   },
   "outputs": [],
   "source": [
    "#Number of points in a year\n",
    "yearly_points = 31556926000/900000\n",
    "fraction_of_best = []\n",
    "fraction_user_best =[]\n",
    "for user in seq_best.keys():\n",
    "    fraction_of_best.append(df__all[df__all['user']==user].shape[0]/yearly_points)\n",
    "    fraction_user_best.append(user)"
   ]
  },
  {
   "cell_type": "code",
   "execution_count": null,
   "metadata": {
    "collapsed": false
   },
   "outputs": [],
   "source": [
    "#Number of points in a year\n",
    "yearly_points = 31556926000/900000\n",
    "fraction_of_full = []\n",
    "fraction_user_full =[]\n",
    "for user in df__all['user'].unique():\n",
    "    fraction_of_full.append(df__all[df__all['user']==user].shape[0]/yearly_points)\n",
    "    fraction_user_full.append(user)"
   ]
  },
  {
   "cell_type": "code",
   "execution_count": null,
   "metadata": {
    "collapsed": false
   },
   "outputs": [],
   "source": []
  },
  {
   "cell_type": "code",
   "execution_count": null,
   "metadata": {
    "collapsed": false
   },
   "outputs": [],
   "source": [
    "\n",
    "plt.figure()\n",
    "\n",
    "plt.subplot(121)\n",
    "plt.hist(fraction_of_full,np.arange(0,1.1,0.05))\n",
    "plt.title('All users')\n",
    "plt.xlabel('Completness', fontsize=10)\n",
    "plt.ylabel('Amount of users', fontsize=10)\n",
    "\n",
    "plt.subplot(122)\n",
    "plt.hist(fraction_of_best,np.arange(0,1.1,0.05))\n",
    "plt.title('Best users')\n",
    "plt.xlabel('Completness', fontsize=10)\n",
    "plt.ylabel('Amount of users', fontsize=10)"
   ]
  },
  {
   "cell_type": "code",
   "execution_count": null,
   "metadata": {
    "collapsed": false
   },
   "outputs": [],
   "source": [
    "plt.figure(figsize=(5,4))\n",
    "plt.hist(fraction_of_full,np.arange(0,1.1,0.05))\n",
    "plt.title('All users')\n",
    "plt.xlabel('Completness', fontsize=10)\n",
    "plt.ylabel('Amount of users', fontsize=10)"
   ]
  },
  {
   "cell_type": "code",
   "execution_count": null,
   "metadata": {
    "collapsed": false
   },
   "outputs": [],
   "source": []
  },
  {
   "cell_type": "code",
   "execution_count": null,
   "metadata": {
    "collapsed": false
   },
   "outputs": [],
   "source": []
  },
  {
   "cell_type": "code",
   "execution_count": null,
   "metadata": {
    "collapsed": true
   },
   "outputs": [],
   "source": []
  }
 ],
 "metadata": {
  "kernelspec": {
   "display_name": "Python 2",
   "language": "python",
   "name": "python2"
  },
  "language_info": {
   "codemirror_mode": {
    "name": "ipython",
    "version": 2
   },
   "file_extension": ".py",
   "mimetype": "text/x-python",
   "name": "python",
   "nbconvert_exporter": "python",
   "pygments_lexer": "ipython2",
   "version": "2.7.13"
  }
 },
 "nbformat": 4,
 "nbformat_minor": 0
}
